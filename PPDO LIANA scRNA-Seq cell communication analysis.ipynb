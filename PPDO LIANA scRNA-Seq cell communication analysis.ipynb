{
 "cells": [
  {
   "cell_type": "code",
   "execution_count": null,
   "id": "28fa7301-4bbb-4048-903a-56ba07c3f874",
   "metadata": {},
   "outputs": [],
   "source": [
    "#LIANA test for organoids it works with normalized adata\n",
    "import liana as li\n",
    "from liana.mt import rank_aggregate\n",
    "from liana.method import singlecellsignalr, connectome, cellphonedb, natmi, logfc, cellchat, geometric_mean"
   ]
  },
  {
   "cell_type": "code",
   "execution_count": null,
   "id": "7f19471f-7945-48b8-85e9-8d3569a0f26f",
   "metadata": {},
   "outputs": [],
   "source": [
    "#Homology pig to human conversion\n",
    "resource = li.rs.select_resource('consensus')\n",
    "resource.head()\n",
    "\n",
    "map_df = li.rs.get_hcop_orthologs(url='https://ftp.ebi.ac.uk/pub/databases/genenames/hcop/human_pig_hcop_fifteen_column.txt.gz',\n",
    "                                   columns=['human_symbol', 'pig_symbol'],\n",
    "                                   min_evidence=3\n",
    "                                   )\n",
    "# rename the columns to source and target, respectively for the original organism and the target organism\n",
    "map_df = map_df.rename(columns={'human_symbol':'source', 'pig_symbol':'target'})\n",
    "map_df.tail()\n",
    "\n",
    "#check conversion\n",
    "pig = li.rs.translate_resource(resource,\n",
    "                                 map_df=map_df,\n",
    "                                 columns=['ligand', 'receptor'],\n",
    "                                 replace=True,\n",
    "                                 one_to_many=3\n",
    "                                 )\n",
    "pig"
   ]
  },
  {
   "cell_type": "code",
   "execution_count": null,
   "id": "f35f58c8-5756-492d-a5c5-62703275669f",
   "metadata": {},
   "outputs": [],
   "source": [
    "# Run rank_aggregate for infering cell-cell interaction from all methods\n",
    "li.mt.rank_aggregate(adata,\n",
    "                     groupby='mergedcelltypes',\n",
    "                     resource_name='pig',\n",
    "                     resource=pig,\n",
    "                     use_raw= False,\n",
    "                     expr_prop=0.1,\n",
    "                     verbose=True)"
   ]
  },
  {
   "cell_type": "code",
   "execution_count": null,
   "id": "090803e9-6a7c-4a45-b0ec-e8ce4fcab824",
   "metadata": {},
   "outputs": [],
   "source": [
    "#Plot and save results as dotplot\n",
    "myplot = li.pl.dotplot(adata = adata,\n",
    "              colour='magnitude_rank',\n",
    "              size='specificity_rank',\n",
    "              inverse_size=True,\n",
    "              inverse_colour=True,\n",
    "              source_labels=['Basal_epithelial_cells', 'Glycolysis_enriched_cells_1', 'Glycolysis_enriched_cells_2', 'Pancreatic_ductal_cells_1', 'Pancreatic_ductal_cells_2', 'Proliferating_cells'],\n",
    "              target_labels=['WNT signaling enriched cells'],\n",
    "              top_n=10,\n",
    "              orderby='magnitude_rank',\n",
    "              orderby_ascending=True,\n",
    "              cmap ='Blues',\n",
    "              figure_size=(12, 12)\n",
    "             )\n",
    "\n",
    "myplot.save('241114_PPDO_LIANA plot duct_to_WNT enriched_cells.pdf')"
   ]
  }
 ],
 "metadata": {
  "kernelspec": {
   "display_name": "Python 3 (ipykernel)",
   "language": "python",
   "name": "python3"
  },
  "language_info": {
   "codemirror_mode": {
    "name": "ipython",
    "version": 3
   },
   "file_extension": ".py",
   "mimetype": "text/x-python",
   "name": "python",
   "nbconvert_exporter": "python",
   "pygments_lexer": "ipython3",
   "version": "3.11.8"
  }
 },
 "nbformat": 4,
 "nbformat_minor": 5
}
